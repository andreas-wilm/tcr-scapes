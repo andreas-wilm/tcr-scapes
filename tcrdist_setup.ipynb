{
 "cells": [
  {
   "cell_type": "code",
   "execution_count": null,
   "metadata": {},
   "outputs": [],
   "source": [
    "# Install conga package\n",
    "\n",
    "# Assumes that the user has created and activated a conda virtual environment\n",
    "# Please see https://github.com/phbradley/conga for more details\n",
    "\n",
    "!pip3 install scanpy\n",
    "!git clone https://github.com/phbradley/conga.git && cd conga/tcrdist_cpp && make\n",
    "!pip install -e .\n",
    "!conda install seaborn scikit-learn statsmodels numba pytables\n",
    "!conda install -c conda-forge python-igraph leidenalg louvain notebook\n",
    "!conda install -c intel tbb # optional\n",
    "!pip install scanpy\n",
    "!pip install fastcluster # optional\n",
    "!conda install pyyaml #optional for using yaml-formatted configuration files for scripts"
   ]
  }
 ],
 "metadata": {
  "language_info": {
   "name": "python"
  },
  "orig_nbformat": 4
 },
 "nbformat": 4,
 "nbformat_minor": 2
}
